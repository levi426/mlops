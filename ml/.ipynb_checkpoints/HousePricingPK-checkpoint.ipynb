{
 "cells": [
  {
   "cell_type": "code",
   "execution_count": 1,
   "id": "b7d4892d",
   "metadata": {},
   "outputs": [
    {
     "name": "stderr",
     "output_type": "stream",
     "text": [
      "C:\\Users\\DELL\\anaconda3\\lib\\site-packages\\pandas\\core\\computation\\expressions.py:21: UserWarning: Pandas requires version '2.8.4' or newer of 'numexpr' (version '2.8.3' currently installed).\n",
      "  from pandas.core.computation.check import NUMEXPR_INSTALLED\n",
      "C:\\Users\\DELL\\anaconda3\\lib\\site-packages\\pandas\\core\\arrays\\masked.py:61: UserWarning: Pandas requires version '1.3.6' or newer of 'bottleneck' (version '1.3.5' currently installed).\n",
      "  from pandas.core import (\n"
     ]
    }
   ],
   "source": [
    "import pandas as pd\n",
    "import numpy as np\n",
    "from sklearn.model_selection import train_test_split\n",
    "from sklearn.ensemble import RandomForestRegressor\n",
    "from sklearn.metrics import mean_squared_error, r2_score\n",
    "import joblib"
   ]
  },
  {
   "cell_type": "code",
   "execution_count": 43,
   "id": "cafcfa6c",
   "metadata": {},
   "outputs": [],
   "source": [
    "# 1. Load dataset\n",
    "df = pd.read_csv(\"Entities.csv\")  "
   ]
  },
  {
   "cell_type": "code",
   "execution_count": 44,
   "id": "4c2d1b40",
   "metadata": {},
   "outputs": [
    {
     "name": "stdout",
     "output_type": "stream",
     "text": [
      "   Unnamed: 0  property_id  location_id  \\\n",
      "0           0       237062         3325   \n",
      "1           1       346905         3236   \n",
      "2           2       386513          764   \n",
      "3           3       656161          340   \n",
      "4           4       841645         3226   \n",
      "\n",
      "                                            page_url property_type     price  \\\n",
      "0  https://www.zameen.com/Property/g_10_g_10_2_gr...          Flat  10000000   \n",
      "1  https://www.zameen.com/Property/e_11_2_service...          Flat   6900000   \n",
      "2  https://www.zameen.com/Property/islamabad_g_15...         House  16500000   \n",
      "3  https://www.zameen.com/Property/islamabad_bani...         House  43500000   \n",
      "4  https://www.zameen.com/Property/dha_valley_dha...         House   7000000   \n",
      "\n",
      "      location       city      province_name   latitude  longitude  baths  \\\n",
      "0         G-10  Islamabad  Islamabad Capital  33.679890  73.012640      2   \n",
      "1         E-11  Islamabad  Islamabad Capital  33.700993  72.971492      3   \n",
      "2         G-15  Islamabad  Islamabad Capital  33.631486  72.926559      6   \n",
      "3    Bani Gala  Islamabad  Islamabad Capital  33.707573  73.151199      4   \n",
      "4  DHA Defence  Islamabad  Islamabad Capital  33.492591  73.301339      3   \n",
      "\n",
      "    purpose  bedrooms date_added         agency  \\\n",
      "0  For Sale         2   2/4/2019            NaN   \n",
      "1  For Sale         3   5/4/2019            NaN   \n",
      "2  For Sale         5  7/17/2019            NaN   \n",
      "3  For Sale         4   4/5/2019            NaN   \n",
      "4  For Sale         3  7/10/2019  Easy Property   \n",
      "\n",
      "                                          agent  Total_Area  \n",
      "0                                           NaN    1089.004  \n",
      "1                                           NaN   15246.056  \n",
      "2                                           NaN    2178.008  \n",
      "3                                           NaN   10890.000  \n",
      "4  Muhammad Junaid Ceo Muhammad Shahid Director    2178.008  \n",
      "<class 'pandas.core.frame.DataFrame'>\n",
      "RangeIndex: 168446 entries, 0 to 168445\n",
      "Data columns (total 18 columns):\n",
      " #   Column         Non-Null Count   Dtype  \n",
      "---  ------         --------------   -----  \n",
      " 0   Unnamed: 0     168446 non-null  int64  \n",
      " 1   property_id    168446 non-null  int64  \n",
      " 2   location_id    168446 non-null  int64  \n",
      " 3   page_url       168446 non-null  object \n",
      " 4   property_type  168446 non-null  object \n",
      " 5   price          168446 non-null  int64  \n",
      " 6   location       168446 non-null  object \n",
      " 7   city           168446 non-null  object \n",
      " 8   province_name  168446 non-null  object \n",
      " 9   latitude       168446 non-null  float64\n",
      " 10  longitude      168446 non-null  float64\n",
      " 11  baths          168446 non-null  int64  \n",
      " 12  purpose        168446 non-null  object \n",
      " 13  bedrooms       168446 non-null  int64  \n",
      " 14  date_added     168446 non-null  object \n",
      " 15  agency         124375 non-null  object \n",
      " 16  agent          124374 non-null  object \n",
      " 17  Total_Area     168446 non-null  float64\n",
      "dtypes: float64(3), int64(6), object(9)\n",
      "memory usage: 23.1+ MB\n",
      "None\n",
      "Unnamed: 0           0\n",
      "property_id          0\n",
      "location_id          0\n",
      "page_url             0\n",
      "property_type        0\n",
      "price                0\n",
      "location             0\n",
      "city                 0\n",
      "province_name        0\n",
      "latitude             0\n",
      "longitude            0\n",
      "baths                0\n",
      "purpose              0\n",
      "bedrooms             0\n",
      "date_added           0\n",
      "agency           44071\n",
      "agent            44072\n",
      "Total_Area           0\n",
      "dtype: int64\n"
     ]
    }
   ],
   "source": [
    "# 2. Initial exploration\n",
    "print(df.head())\n",
    "print(df.info())\n",
    "print(df.isna().sum())"
   ]
  },
  {
   "cell_type": "code",
   "execution_count": 45,
   "id": "a216afb9",
   "metadata": {},
   "outputs": [
    {
     "name": "stdout",
     "output_type": "stream",
     "text": [
      "Dropped rows. New shape: (124374, 18)\n"
     ]
    }
   ],
   "source": [
    "# 3. Drop rows (or columns) with missing values\n",
    "# Option A: drop rows with ANY missing values\n",
    "df_clean = df.dropna(axis=0, how='any').reset_index(drop=True)\n",
    "# Option B: alternatively, drop columns with too many missingness first, then drop rows\n",
    "# (But you said “do not use imputor”, so this is pure drop.)\n",
    "\n",
    "print(\"Dropped rows. New shape:\", df_clean.shape)"
   ]
  },
  {
   "cell_type": "code",
   "execution_count": 46,
   "id": "c526803f",
   "metadata": {},
   "outputs": [
    {
     "data": {
      "text/html": [
       "<div>\n",
       "<style scoped>\n",
       "    .dataframe tbody tr th:only-of-type {\n",
       "        vertical-align: middle;\n",
       "    }\n",
       "\n",
       "    .dataframe tbody tr th {\n",
       "        vertical-align: top;\n",
       "    }\n",
       "\n",
       "    .dataframe thead th {\n",
       "        text-align: right;\n",
       "    }\n",
       "</style>\n",
       "<table border=\"1\" class=\"dataframe\">\n",
       "  <thead>\n",
       "    <tr style=\"text-align: right;\">\n",
       "      <th></th>\n",
       "      <th>Unnamed: 0</th>\n",
       "      <th>property_id</th>\n",
       "      <th>location_id</th>\n",
       "      <th>page_url</th>\n",
       "      <th>property_type</th>\n",
       "      <th>price</th>\n",
       "      <th>location</th>\n",
       "      <th>city</th>\n",
       "      <th>province_name</th>\n",
       "      <th>latitude</th>\n",
       "      <th>longitude</th>\n",
       "      <th>baths</th>\n",
       "      <th>purpose</th>\n",
       "      <th>bedrooms</th>\n",
       "      <th>date_added</th>\n",
       "      <th>agency</th>\n",
       "      <th>agent</th>\n",
       "      <th>Total_Area</th>\n",
       "    </tr>\n",
       "  </thead>\n",
       "  <tbody>\n",
       "    <tr>\n",
       "      <th>0</th>\n",
       "      <td>4</td>\n",
       "      <td>841645</td>\n",
       "      <td>3226</td>\n",
       "      <td>https://www.zameen.com/Property/dha_valley_dha...</td>\n",
       "      <td>House</td>\n",
       "      <td>7000000</td>\n",
       "      <td>DHA Defence</td>\n",
       "      <td>Islamabad</td>\n",
       "      <td>Islamabad Capital</td>\n",
       "      <td>33.492591</td>\n",
       "      <td>73.301339</td>\n",
       "      <td>3</td>\n",
       "      <td>For Sale</td>\n",
       "      <td>3</td>\n",
       "      <td>7/10/2019</td>\n",
       "      <td>Easy Property</td>\n",
       "      <td>Muhammad Junaid Ceo Muhammad Shahid Director</td>\n",
       "      <td>2178.008</td>\n",
       "    </tr>\n",
       "    <tr>\n",
       "      <th>1</th>\n",
       "      <td>7</td>\n",
       "      <td>1258636</td>\n",
       "      <td>3241</td>\n",
       "      <td>https://www.zameen.com/Property/e_11_e_11_4_ap...</td>\n",
       "      <td>Flat</td>\n",
       "      <td>7800000</td>\n",
       "      <td>E-11</td>\n",
       "      <td>Islamabad</td>\n",
       "      <td>Islamabad Capital</td>\n",
       "      <td>33.698244</td>\n",
       "      <td>72.984238</td>\n",
       "      <td>2</td>\n",
       "      <td>For Sale</td>\n",
       "      <td>2</td>\n",
       "      <td>5/5/2019</td>\n",
       "      <td>Ettemad Enterprises</td>\n",
       "      <td>Balqiaz Marwat</td>\n",
       "      <td>16879.562</td>\n",
       "    </tr>\n",
       "    <tr>\n",
       "      <th>2</th>\n",
       "      <td>8</td>\n",
       "      <td>1402466</td>\n",
       "      <td>376</td>\n",
       "      <td>https://www.zameen.com/Property/dha_defence_dh...</td>\n",
       "      <td>House</td>\n",
       "      <td>50000000</td>\n",
       "      <td>DHA Defence</td>\n",
       "      <td>Islamabad</td>\n",
       "      <td>Islamabad Capital</td>\n",
       "      <td>33.540894</td>\n",
       "      <td>73.095732</td>\n",
       "      <td>7</td>\n",
       "      <td>For Sale</td>\n",
       "      <td>7</td>\n",
       "      <td>10/19/2018</td>\n",
       "      <td>Easy Property</td>\n",
       "      <td>Muhammad Junaid Ceo Muhammad Shahid Director</td>\n",
       "      <td>5445.000</td>\n",
       "    </tr>\n",
       "    <tr>\n",
       "      <th>3</th>\n",
       "      <td>9</td>\n",
       "      <td>1418706</td>\n",
       "      <td>3282</td>\n",
       "      <td>https://www.zameen.com/Property/f_11_f_11_1_f_...</td>\n",
       "      <td>Penthouse</td>\n",
       "      <td>40000000</td>\n",
       "      <td>F-11</td>\n",
       "      <td>Islamabad</td>\n",
       "      <td>Islamabad Capital</td>\n",
       "      <td>33.679211</td>\n",
       "      <td>72.988787</td>\n",
       "      <td>5</td>\n",
       "      <td>For Sale</td>\n",
       "      <td>5</td>\n",
       "      <td>6/27/2019</td>\n",
       "      <td>Crown Associate</td>\n",
       "      <td>Abrar Ahmed</td>\n",
       "      <td>5445.000</td>\n",
       "    </tr>\n",
       "    <tr>\n",
       "      <th>4</th>\n",
       "      <td>10</td>\n",
       "      <td>1425602</td>\n",
       "      <td>429</td>\n",
       "      <td>https://www.zameen.com/Property/islamabad_dipl...</td>\n",
       "      <td>Flat</td>\n",
       "      <td>35000000</td>\n",
       "      <td>Diplomatic Enclave</td>\n",
       "      <td>Islamabad</td>\n",
       "      <td>Islamabad Capital</td>\n",
       "      <td>33.728873</td>\n",
       "      <td>73.119628</td>\n",
       "      <td>3</td>\n",
       "      <td>For Sale</td>\n",
       "      <td>3</td>\n",
       "      <td>6/3/2019</td>\n",
       "      <td>Al Sahar Estate</td>\n",
       "      <td>Zahid H. Usmani</td>\n",
       "      <td>19329.821</td>\n",
       "    </tr>\n",
       "  </tbody>\n",
       "</table>\n",
       "</div>"
      ],
      "text/plain": [
       "   Unnamed: 0  property_id  location_id  \\\n",
       "0           4       841645         3226   \n",
       "1           7      1258636         3241   \n",
       "2           8      1402466          376   \n",
       "3           9      1418706         3282   \n",
       "4          10      1425602          429   \n",
       "\n",
       "                                            page_url property_type     price  \\\n",
       "0  https://www.zameen.com/Property/dha_valley_dha...         House   7000000   \n",
       "1  https://www.zameen.com/Property/e_11_e_11_4_ap...          Flat   7800000   \n",
       "2  https://www.zameen.com/Property/dha_defence_dh...         House  50000000   \n",
       "3  https://www.zameen.com/Property/f_11_f_11_1_f_...     Penthouse  40000000   \n",
       "4  https://www.zameen.com/Property/islamabad_dipl...          Flat  35000000   \n",
       "\n",
       "             location       city      province_name   latitude  longitude  \\\n",
       "0         DHA Defence  Islamabad  Islamabad Capital  33.492591  73.301339   \n",
       "1                E-11  Islamabad  Islamabad Capital  33.698244  72.984238   \n",
       "2         DHA Defence  Islamabad  Islamabad Capital  33.540894  73.095732   \n",
       "3                F-11  Islamabad  Islamabad Capital  33.679211  72.988787   \n",
       "4  Diplomatic Enclave  Islamabad  Islamabad Capital  33.728873  73.119628   \n",
       "\n",
       "   baths   purpose  bedrooms  date_added               agency  \\\n",
       "0      3  For Sale         3   7/10/2019        Easy Property   \n",
       "1      2  For Sale         2    5/5/2019  Ettemad Enterprises   \n",
       "2      7  For Sale         7  10/19/2018        Easy Property   \n",
       "3      5  For Sale         5   6/27/2019      Crown Associate   \n",
       "4      3  For Sale         3    6/3/2019      Al Sahar Estate   \n",
       "\n",
       "                                          agent  Total_Area  \n",
       "0  Muhammad Junaid Ceo Muhammad Shahid Director    2178.008  \n",
       "1                                Balqiaz Marwat   16879.562  \n",
       "2  Muhammad Junaid Ceo Muhammad Shahid Director    5445.000  \n",
       "3                                   Abrar Ahmed    5445.000  \n",
       "4                               Zahid H. Usmani   19329.821  "
      ]
     },
     "execution_count": 46,
     "metadata": {},
     "output_type": "execute_result"
    }
   ],
   "source": [
    "df_clean.head()"
   ]
  },
  {
   "cell_type": "code",
   "execution_count": 47,
   "id": "efe994c2",
   "metadata": {},
   "outputs": [
    {
     "name": "stdout",
     "output_type": "stream",
     "text": [
      "<class 'pandas.core.frame.DataFrame'>\n",
      "RangeIndex: 124374 entries, 0 to 124373\n",
      "Data columns (total 18 columns):\n",
      " #   Column         Non-Null Count   Dtype  \n",
      "---  ------         --------------   -----  \n",
      " 0   Unnamed: 0     124374 non-null  int64  \n",
      " 1   property_id    124374 non-null  int64  \n",
      " 2   location_id    124374 non-null  int64  \n",
      " 3   page_url       124374 non-null  object \n",
      " 4   property_type  124374 non-null  object \n",
      " 5   price          124374 non-null  int64  \n",
      " 6   location       124374 non-null  object \n",
      " 7   city           124374 non-null  object \n",
      " 8   province_name  124374 non-null  object \n",
      " 9   latitude       124374 non-null  float64\n",
      " 10  longitude      124374 non-null  float64\n",
      " 11  baths          124374 non-null  int64  \n",
      " 12  purpose        124374 non-null  object \n",
      " 13  bedrooms       124374 non-null  int64  \n",
      " 14  date_added     124374 non-null  object \n",
      " 15  agency         124374 non-null  object \n",
      " 16  agent          124374 non-null  object \n",
      " 17  Total_Area     124374 non-null  float64\n",
      "dtypes: float64(3), int64(6), object(9)\n",
      "memory usage: 17.1+ MB\n"
     ]
    }
   ],
   "source": [
    "df_clean.info()"
   ]
  },
  {
   "cell_type": "code",
   "execution_count": 48,
   "id": "9452453c",
   "metadata": {},
   "outputs": [],
   "source": [
    "df_clean=df_clean.iloc[:,[4,5,7,8,9,10,11,12,13,17]]"
   ]
  },
  {
   "cell_type": "code",
   "execution_count": 49,
   "id": "a9c82508",
   "metadata": {},
   "outputs": [
    {
     "data": {
      "text/html": [
       "<div>\n",
       "<style scoped>\n",
       "    .dataframe tbody tr th:only-of-type {\n",
       "        vertical-align: middle;\n",
       "    }\n",
       "\n",
       "    .dataframe tbody tr th {\n",
       "        vertical-align: top;\n",
       "    }\n",
       "\n",
       "    .dataframe thead th {\n",
       "        text-align: right;\n",
       "    }\n",
       "</style>\n",
       "<table border=\"1\" class=\"dataframe\">\n",
       "  <thead>\n",
       "    <tr style=\"text-align: right;\">\n",
       "      <th></th>\n",
       "      <th>property_type</th>\n",
       "      <th>price</th>\n",
       "      <th>city</th>\n",
       "      <th>province_name</th>\n",
       "      <th>latitude</th>\n",
       "      <th>longitude</th>\n",
       "      <th>baths</th>\n",
       "      <th>purpose</th>\n",
       "      <th>bedrooms</th>\n",
       "      <th>Total_Area</th>\n",
       "    </tr>\n",
       "  </thead>\n",
       "  <tbody>\n",
       "    <tr>\n",
       "      <th>0</th>\n",
       "      <td>House</td>\n",
       "      <td>7000000</td>\n",
       "      <td>Islamabad</td>\n",
       "      <td>Islamabad Capital</td>\n",
       "      <td>33.492591</td>\n",
       "      <td>73.301339</td>\n",
       "      <td>3</td>\n",
       "      <td>For Sale</td>\n",
       "      <td>3</td>\n",
       "      <td>2178.008</td>\n",
       "    </tr>\n",
       "    <tr>\n",
       "      <th>1</th>\n",
       "      <td>Flat</td>\n",
       "      <td>7800000</td>\n",
       "      <td>Islamabad</td>\n",
       "      <td>Islamabad Capital</td>\n",
       "      <td>33.698244</td>\n",
       "      <td>72.984238</td>\n",
       "      <td>2</td>\n",
       "      <td>For Sale</td>\n",
       "      <td>2</td>\n",
       "      <td>16879.562</td>\n",
       "    </tr>\n",
       "    <tr>\n",
       "      <th>2</th>\n",
       "      <td>House</td>\n",
       "      <td>50000000</td>\n",
       "      <td>Islamabad</td>\n",
       "      <td>Islamabad Capital</td>\n",
       "      <td>33.540894</td>\n",
       "      <td>73.095732</td>\n",
       "      <td>7</td>\n",
       "      <td>For Sale</td>\n",
       "      <td>7</td>\n",
       "      <td>5445.000</td>\n",
       "    </tr>\n",
       "    <tr>\n",
       "      <th>3</th>\n",
       "      <td>Penthouse</td>\n",
       "      <td>40000000</td>\n",
       "      <td>Islamabad</td>\n",
       "      <td>Islamabad Capital</td>\n",
       "      <td>33.679211</td>\n",
       "      <td>72.988787</td>\n",
       "      <td>5</td>\n",
       "      <td>For Sale</td>\n",
       "      <td>5</td>\n",
       "      <td>5445.000</td>\n",
       "    </tr>\n",
       "    <tr>\n",
       "      <th>4</th>\n",
       "      <td>Flat</td>\n",
       "      <td>35000000</td>\n",
       "      <td>Islamabad</td>\n",
       "      <td>Islamabad Capital</td>\n",
       "      <td>33.728873</td>\n",
       "      <td>73.119628</td>\n",
       "      <td>3</td>\n",
       "      <td>For Sale</td>\n",
       "      <td>3</td>\n",
       "      <td>19329.821</td>\n",
       "    </tr>\n",
       "  </tbody>\n",
       "</table>\n",
       "</div>"
      ],
      "text/plain": [
       "  property_type     price       city      province_name   latitude  longitude  \\\n",
       "0         House   7000000  Islamabad  Islamabad Capital  33.492591  73.301339   \n",
       "1          Flat   7800000  Islamabad  Islamabad Capital  33.698244  72.984238   \n",
       "2         House  50000000  Islamabad  Islamabad Capital  33.540894  73.095732   \n",
       "3     Penthouse  40000000  Islamabad  Islamabad Capital  33.679211  72.988787   \n",
       "4          Flat  35000000  Islamabad  Islamabad Capital  33.728873  73.119628   \n",
       "\n",
       "   baths   purpose  bedrooms  Total_Area  \n",
       "0      3  For Sale         3    2178.008  \n",
       "1      2  For Sale         2   16879.562  \n",
       "2      7  For Sale         7    5445.000  \n",
       "3      5  For Sale         5    5445.000  \n",
       "4      3  For Sale         3   19329.821  "
      ]
     },
     "execution_count": 49,
     "metadata": {},
     "output_type": "execute_result"
    }
   ],
   "source": [
    "df_clean.head()"
   ]
  },
  {
   "cell_type": "code",
   "execution_count": 50,
   "id": "6b204b07",
   "metadata": {},
   "outputs": [],
   "source": [
    "from sklearn.preprocessing import LabelEncoder"
   ]
  },
  {
   "cell_type": "code",
   "execution_count": 51,
   "id": "372b9ee4",
   "metadata": {},
   "outputs": [
    {
     "data": {
      "text/plain": [
       "Index(['property_type', 'price', 'city', 'province_name', 'latitude',\n",
       "       'longitude', 'baths', 'purpose', 'bedrooms', 'Total_Area'],\n",
       "      dtype='object')"
      ]
     },
     "execution_count": 51,
     "metadata": {},
     "output_type": "execute_result"
    }
   ],
   "source": [
    "df_clean.columns"
   ]
  },
  {
   "cell_type": "code",
   "execution_count": 52,
   "id": "eea01da4",
   "metadata": {},
   "outputs": [],
   "source": [
    "string_cols=[\"property_type\",\"city\",\"province_name\",\"purpose\"]"
   ]
  },
  {
   "cell_type": "code",
   "execution_count": 53,
   "id": "36aaa6ed",
   "metadata": {},
   "outputs": [],
   "source": [
    "encoder=LabelEncoder()"
   ]
  },
  {
   "cell_type": "code",
   "execution_count": 54,
   "id": "8945c954",
   "metadata": {},
   "outputs": [
    {
     "name": "stdout",
     "output_type": "stream",
     "text": [
      "Encoded 'property_type' -> 7 classes\n",
      "Encoded 'city' -> 5 classes\n",
      "Encoded 'province_name' -> 3 classes\n",
      "Encoded 'purpose' -> 2 classes\n"
     ]
    }
   ],
   "source": [
    "# 7. Label encode each selected column (explicitly as strings)\n",
    "encoders = {}\n",
    "for col in string_cols:\n",
    "    le = LabelEncoder()\n",
    "    # convert all to string first so LabelEncoder is deterministic\n",
    "    df_clean[col] = le.fit_transform(df_clean[col].astype(str))\n",
    "    encoders[col] = le\n",
    "    print(f\"Encoded '{col}' -> {len(le.classes_)} classes\")\n"
   ]
  },
  {
   "cell_type": "code",
   "execution_count": null,
   "id": "0c7df3cb",
   "metadata": {},
   "outputs": [],
   "source": []
  },
  {
   "cell_type": "code",
   "execution_count": 55,
   "id": "d3c1777a",
   "metadata": {},
   "outputs": [],
   "source": [
    "X = df_clean.drop(\"price\",axis=1)\n",
    "y = df_clean[\"price\"]"
   ]
  },
  {
   "cell_type": "code",
   "execution_count": 56,
   "id": "45394a02",
   "metadata": {},
   "outputs": [],
   "source": [
    "\n",
    "# 5. Train / test split\n",
    "X_train, X_test, y_train, y_test = train_test_split(\n",
    "    X, y, test_size=0.2, random_state=42\n",
    ")\n"
   ]
  },
  {
   "cell_type": "code",
   "execution_count": 57,
   "id": "4e108989",
   "metadata": {},
   "outputs": [],
   "source": [
    "def slugify(name):\n",
    "    name = str(name)\n",
    "    name = name.strip()\n",
    "    # replace non-alphanumeric with underscore\n",
    "    return re.sub(r'[^0-9a-zA-Z_]+', '_', name)"
   ]
  },
  {
   "cell_type": "code",
   "execution_count": 58,
   "id": "7276e89c",
   "metadata": {},
   "outputs": [
    {
     "name": "stdout",
     "output_type": "stream",
     "text": [
      "MSE: 265211908247625.16\n",
      "R²: 0.8184272835145455\n"
     ]
    }
   ],
   "source": [
    "# 6. Choose and train a model\n",
    "model = RandomForestRegressor(n_estimators=100, random_state=42)\n",
    "model.fit(X_train, y_train)\n",
    "\n",
    "# 7. Evaluate\n",
    "y_pred = model.predict(X_test)\n",
    "mse = mean_squared_error(y_test, y_pred)\n",
    "r2 = r2_score(y_test, y_pred)\n",
    "print(\"MSE:\", mse)\n",
    "print(\"R²:\", r2)"
   ]
  },
  {
   "cell_type": "code",
   "execution_count": 59,
   "id": "dec4ed08",
   "metadata": {},
   "outputs": [],
   "source": [
    "import os\n",
    "import re"
   ]
  },
  {
   "cell_type": "code",
   "execution_count": 39,
   "id": "edb52966",
   "metadata": {},
   "outputs": [],
   "source": [
    "features_list=X.columns\n",
    "feature_field_map = {col: slugify(col) for col in features_list}"
   ]
  },
  {
   "cell_type": "code",
   "execution_count": 40,
   "id": "e3c6bb0b",
   "metadata": {},
   "outputs": [
    {
     "data": {
      "text/plain": [
       "Index(['property_type', 'city', 'province_name', 'latitude', 'longitude',\n",
       "       'baths', 'purpose', 'bedrooms', 'Total_Area'],\n",
       "      dtype='object')"
      ]
     },
     "execution_count": 40,
     "metadata": {},
     "output_type": "execute_result"
    }
   ],
   "source": [
    "features_list"
   ]
  },
  {
   "cell_type": "code",
   "execution_count": 41,
   "id": "2d296efd",
   "metadata": {},
   "outputs": [
    {
     "data": {
      "text/plain": [
       "{'property_type': 'property_type',\n",
       " 'city': 'city',\n",
       " 'province_name': 'province_name',\n",
       " 'latitude': 'latitude',\n",
       " 'longitude': 'longitude',\n",
       " 'baths': 'baths',\n",
       " 'purpose': 'purpose',\n",
       " 'bedrooms': 'bedrooms',\n",
       " 'Total_Area': 'Total_Area'}"
      ]
     },
     "execution_count": 41,
     "metadata": {},
     "output_type": "execute_result"
    }
   ],
   "source": [
    "feature_field_map"
   ]
  },
  {
   "cell_type": "code",
   "execution_count": 60,
   "id": "0676aa2a",
   "metadata": {},
   "outputs": [
    {
     "name": "stdout",
     "output_type": "stream",
     "text": [
      "Saved model and artifacts to models/\n",
      "Files:\n",
      " - feature_field_map.pkl\n",
      " - house_price_model.pkl\n",
      " - label_encoders.pkl\n",
      " - model_features.pkl\n"
     ]
    }
   ],
   "source": [
    "OUTPUT_DIR=\"models/\"\n",
    "joblib.dump(model, os.path.join(OUTPUT_DIR, \"house_price_model.pkl\"))\n",
    "joblib.dump(features_list, os.path.join(OUTPUT_DIR, \"model_features.pkl\"))\n",
    "joblib.dump(encoders, os.path.join(OUTPUT_DIR, \"label_encoders.pkl\"))\n",
    "joblib.dump(feature_field_map, os.path.join(OUTPUT_DIR, \"feature_field_map.pkl\"))\n",
    "\n",
    "print(\"Saved model and artifacts to\", OUTPUT_DIR)\n",
    "print(\"Files:\")\n",
    "for f in os.listdir(OUTPUT_DIR):\n",
    "    print(\" -\", f)"
   ]
  },
  {
   "cell_type": "code",
   "execution_count": null,
   "id": "c54e0596",
   "metadata": {},
   "outputs": [],
   "source": []
  }
 ],
 "metadata": {
  "kernelspec": {
   "display_name": "Python 3 (ipykernel)",
   "language": "python",
   "name": "python3"
  },
  "language_info": {
   "codemirror_mode": {
    "name": "ipython",
    "version": 3
   },
   "file_extension": ".py",
   "mimetype": "text/x-python",
   "name": "python",
   "nbconvert_exporter": "python",
   "pygments_lexer": "ipython3",
   "version": "3.9.13"
  }
 },
 "nbformat": 4,
 "nbformat_minor": 5
}
